{
  "metadata": {
    "kernelspec": {
      "language": "python",
      "display_name": "Python 3",
      "name": "python3"
    },
    "language_info": {
      "name": "python",
      "version": "3.10.12",
      "mimetype": "text/x-python",
      "codemirror_mode": {
        "name": "ipython",
        "version": 3
      },
      "pygments_lexer": "ipython3",
      "nbconvert_exporter": "python",
      "file_extension": ".py"
    },
    "colab": {
      "provenance": []
    }
  },
  "nbformat_minor": 0,
  "nbformat": 4,
  "cells": [
    {
      "cell_type": "code",
      "source": [
        "\n",
        "import numpy as np\n",
        "import pandas as pd\n",
        "from sympy import Matrix\n",
        "import matplotlib.pyplot as plt\n",
        "import copy\n",
        "import math\n",
        "\n",
        "import os\n",
        "for dirname, _, filenames in os.walk('/kaggle/input'):\n",
        "    for filename in filenames:\n",
        "        print(os.path.join(dirname, filename))\n"
      ],
      "metadata": {
        "_uuid": "8f2839f25d086af736a60e9eeb907d3b93b6e0e5",
        "_cell_guid": "b1076dfc-b9ad-4769-8c92-a6c4dae69d19",
        "execution": {
          "iopub.status.busy": "2023-10-25T09:38:32.069268Z",
          "iopub.execute_input": "2023-10-25T09:38:32.069613Z",
          "iopub.status.idle": "2023-10-25T09:38:32.550581Z",
          "shell.execute_reply.started": "2023-10-25T09:38:32.069585Z",
          "shell.execute_reply": "2023-10-25T09:38:32.549494Z"
        },
        "trusted": true,
        "id": "SytoMD_lVifR"
      },
      "execution_count": 1,
      "outputs": []
    },
    {
      "cell_type": "code",
      "source": [
        "#read data\n",
        "data1 = pd.read_csv('/kaggle/input/graduate-admissions/Admission_Predict.csv')\n"
      ],
      "metadata": {
        "execution": {
          "iopub.status.busy": "2023-10-25T09:38:32.555688Z",
          "iopub.execute_input": "2023-10-25T09:38:32.555993Z",
          "iopub.status.idle": "2023-10-25T09:38:32.567446Z",
          "shell.execute_reply.started": "2023-10-25T09:38:32.555964Z",
          "shell.execute_reply": "2023-10-25T09:38:32.566456Z"
        },
        "trusted": true,
        "id": "i3Z74BghVifX"
      },
      "execution_count": null,
      "outputs": []
    },
    {
      "cell_type": "code",
      "source": [
        "#check data size\n",
        "print(data1.shape)"
      ],
      "metadata": {
        "execution": {
          "iopub.status.busy": "2023-10-25T09:38:32.569018Z",
          "iopub.execute_input": "2023-10-25T09:38:32.569669Z",
          "iopub.status.idle": "2023-10-25T09:38:32.576296Z",
          "shell.execute_reply.started": "2023-10-25T09:38:32.569625Z",
          "shell.execute_reply": "2023-10-25T09:38:32.574909Z"
        },
        "trusted": true,
        "id": "96tercd5VifY",
        "outputId": "5449d333-7f53-4755-d0c2-5bb84dcdd868"
      },
      "execution_count": null,
      "outputs": [
        {
          "name": "stdout",
          "text": "(400, 9)\n",
          "output_type": "stream"
        }
      ]
    },
    {
      "cell_type": "code",
      "source": [
        "#search for NULL values in datasets\n",
        "data1.isnull().sum()"
      ],
      "metadata": {
        "execution": {
          "iopub.status.busy": "2023-10-25T09:38:32.579693Z",
          "iopub.execute_input": "2023-10-25T09:38:32.580281Z",
          "iopub.status.idle": "2023-10-25T09:38:32.595959Z",
          "shell.execute_reply.started": "2023-10-25T09:38:32.580236Z",
          "shell.execute_reply": "2023-10-25T09:38:32.594924Z"
        },
        "trusted": true,
        "id": "oaMIZN_VVifZ",
        "outputId": "dd025785-a099-4207-a234-9c47ebe6e144"
      },
      "execution_count": null,
      "outputs": [
        {
          "execution_count": 4,
          "output_type": "execute_result",
          "data": {
            "text/plain": "Serial No.           0\nGRE Score            0\nTOEFL Score          0\nUniversity Rating    0\nSOP                  0\nLOR                  0\nCGPA                 0\nResearch             0\nChance of Admit      0\ndtype: int64"
          },
          "metadata": {}
        }
      ]
    },
    {
      "cell_type": "code",
      "source": [
        "data1.head()"
      ],
      "metadata": {
        "execution": {
          "iopub.status.busy": "2023-10-25T09:38:32.599658Z",
          "iopub.execute_input": "2023-10-25T09:38:32.599962Z",
          "iopub.status.idle": "2023-10-25T09:38:32.620737Z",
          "shell.execute_reply.started": "2023-10-25T09:38:32.599936Z",
          "shell.execute_reply": "2023-10-25T09:38:32.619477Z"
        },
        "trusted": true,
        "id": "FQSC978XVifa",
        "outputId": "fc35013c-f1c3-4943-9d9a-3c584b21d9df"
      },
      "execution_count": null,
      "outputs": [
        {
          "execution_count": 5,
          "output_type": "execute_result",
          "data": {
            "text/plain": "   Serial No.  GRE Score  TOEFL Score  University Rating  SOP  LOR   CGPA  \\\n0           1        337          118                  4  4.5   4.5  9.65   \n1           2        324          107                  4  4.0   4.5  8.87   \n2           3        316          104                  3  3.0   3.5  8.00   \n3           4        322          110                  3  3.5   2.5  8.67   \n4           5        314          103                  2  2.0   3.0  8.21   \n\n   Research  Chance of Admit   \n0         1              0.92  \n1         1              0.76  \n2         1              0.72  \n3         1              0.80  \n4         0              0.65  ",
            "text/html": "<div>\n<style scoped>\n    .dataframe tbody tr th:only-of-type {\n        vertical-align: middle;\n    }\n\n    .dataframe tbody tr th {\n        vertical-align: top;\n    }\n\n    .dataframe thead th {\n        text-align: right;\n    }\n</style>\n<table border=\"1\" class=\"dataframe\">\n  <thead>\n    <tr style=\"text-align: right;\">\n      <th></th>\n      <th>Serial No.</th>\n      <th>GRE Score</th>\n      <th>TOEFL Score</th>\n      <th>University Rating</th>\n      <th>SOP</th>\n      <th>LOR</th>\n      <th>CGPA</th>\n      <th>Research</th>\n      <th>Chance of Admit</th>\n    </tr>\n  </thead>\n  <tbody>\n    <tr>\n      <th>0</th>\n      <td>1</td>\n      <td>337</td>\n      <td>118</td>\n      <td>4</td>\n      <td>4.5</td>\n      <td>4.5</td>\n      <td>9.65</td>\n      <td>1</td>\n      <td>0.92</td>\n    </tr>\n    <tr>\n      <th>1</th>\n      <td>2</td>\n      <td>324</td>\n      <td>107</td>\n      <td>4</td>\n      <td>4.0</td>\n      <td>4.5</td>\n      <td>8.87</td>\n      <td>1</td>\n      <td>0.76</td>\n    </tr>\n    <tr>\n      <th>2</th>\n      <td>3</td>\n      <td>316</td>\n      <td>104</td>\n      <td>3</td>\n      <td>3.0</td>\n      <td>3.5</td>\n      <td>8.00</td>\n      <td>1</td>\n      <td>0.72</td>\n    </tr>\n    <tr>\n      <th>3</th>\n      <td>4</td>\n      <td>322</td>\n      <td>110</td>\n      <td>3</td>\n      <td>3.5</td>\n      <td>2.5</td>\n      <td>8.67</td>\n      <td>1</td>\n      <td>0.80</td>\n    </tr>\n    <tr>\n      <th>4</th>\n      <td>5</td>\n      <td>314</td>\n      <td>103</td>\n      <td>2</td>\n      <td>2.0</td>\n      <td>3.0</td>\n      <td>8.21</td>\n      <td>0</td>\n      <td>0.65</td>\n    </tr>\n  </tbody>\n</table>\n</div>"
          },
          "metadata": {}
        }
      ]
    },
    {
      "cell_type": "code",
      "source": [
        "data1.drop(\"Serial No.\",axis=1,inplace=True)\n",
        "y = data1['Chance of Admit ']\n",
        "data1.drop(\"Chance of Admit \",axis=1,inplace=True)\n",
        "from sklearn.model_selection import train_test_split\n",
        "x_train,x_test,y_train,y_test = train_test_split(data1,y,test_size=0.2)"
      ],
      "metadata": {
        "execution": {
          "iopub.status.busy": "2023-10-25T09:38:32.622643Z",
          "iopub.execute_input": "2023-10-25T09:38:32.623369Z",
          "iopub.status.idle": "2023-10-25T09:38:33.122543Z",
          "shell.execute_reply.started": "2023-10-25T09:38:32.623329Z",
          "shell.execute_reply": "2023-10-25T09:38:33.121230Z"
        },
        "trusted": true,
        "id": "WlSrD4JwVifb",
        "outputId": "3958b587-b412-4ed4-a62f-16e9b465f981"
      },
      "execution_count": null,
      "outputs": [
        {
          "name": "stderr",
          "text": "/opt/conda/lib/python3.10/site-packages/scipy/__init__.py:146: UserWarning: A NumPy version >=1.16.5 and <1.23.0 is required for this version of SciPy (detected version 1.23.5\n  warnings.warn(f\"A NumPy version >={np_minversion} and <{np_maxversion}\"\n",
          "output_type": "stream"
        }
      ]
    },
    {
      "cell_type": "code",
      "source": [
        "from sklearn.linear_model import LinearRegression\n",
        "lr = LinearRegression()\n",
        "lr.fit(x_train,y_train)\n",
        "pred = lr.predict(x_test)\n",
        "from sklearn import metrics\n",
        "rmse = np.sqrt(metrics.mean_squared_error(y_test,pred))\n",
        "rmse\n"
      ],
      "metadata": {
        "execution": {
          "iopub.status.busy": "2023-10-25T09:38:33.125036Z",
          "iopub.execute_input": "2023-10-25T09:38:33.125725Z",
          "iopub.status.idle": "2023-10-25T09:38:33.189052Z",
          "shell.execute_reply.started": "2023-10-25T09:38:33.125688Z",
          "shell.execute_reply": "2023-10-25T09:38:33.188031Z"
        },
        "trusted": true,
        "id": "GQ0kSPb5Vifb",
        "outputId": "2ec01f67-d9a7-4728-ee56-4e7abd0af218"
      },
      "execution_count": null,
      "outputs": [
        {
          "execution_count": 7,
          "output_type": "execute_result",
          "data": {
            "text/plain": "0.07262680793688324"
          },
          "metadata": {}
        }
      ]
    },
    {
      "cell_type": "code",
      "source": [
        "from sklearn.preprocessing import StandardScaler\n",
        "sc = StandardScaler()\n",
        "sc.fit(data1)\n",
        "df = sc.transform(data1)\n",
        "from sklearn.model_selection import train_test_split\n",
        "x_train,x_test,y_train,y_test = train_test_split(data1,y,test_size=0.2)\n",
        "from sklearn.linear_model import LinearRegression"
      ],
      "metadata": {
        "execution": {
          "iopub.status.busy": "2023-10-25T09:38:48.922713Z",
          "iopub.execute_input": "2023-10-25T09:38:48.923125Z",
          "iopub.status.idle": "2023-10-25T09:38:48.936480Z",
          "shell.execute_reply.started": "2023-10-25T09:38:48.923091Z",
          "shell.execute_reply": "2023-10-25T09:38:48.935213Z"
        },
        "trusted": true,
        "id": "4GZDu5ZiVifc"
      },
      "execution_count": null,
      "outputs": []
    },
    {
      "cell_type": "code",
      "source": [
        "lr = LinearRegression()\n",
        "lr.fit(x_train,y_train)\n",
        "pred = lr.predict(x_test)\n",
        "from sklearn import metrics\n",
        "rmse = np.sqrt(metrics.mean_squared_error(y_test,pred))\n",
        "rmse\n",
        "0.05674870151306346"
      ],
      "metadata": {
        "execution": {
          "iopub.status.busy": "2023-10-25T09:38:58.603418Z",
          "iopub.execute_input": "2023-10-25T09:38:58.603853Z",
          "iopub.status.idle": "2023-10-25T09:38:58.618808Z",
          "shell.execute_reply.started": "2023-10-25T09:38:58.603817Z",
          "shell.execute_reply": "2023-10-25T09:38:58.617518Z"
        },
        "trusted": true,
        "id": "T4GMv3oQVifd",
        "outputId": "6734417f-f151-43fb-97b0-056a6409cc6a"
      },
      "execution_count": null,
      "outputs": [
        {
          "execution_count": 10,
          "output_type": "execute_result",
          "data": {
            "text/plain": "0.05674870151306346"
          },
          "metadata": {}
        }
      ]
    },
    {
      "cell_type": "code",
      "source": [],
      "metadata": {
        "id": "-i6r39_LVife"
      },
      "execution_count": null,
      "outputs": []
    }
  ]
}